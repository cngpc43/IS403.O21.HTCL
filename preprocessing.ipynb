{
 "cells": [
  {
   "cell_type": "code",
   "execution_count": 1,
   "metadata": {},
   "outputs": [],
   "source": [
    "import pandas as pd\n",
    "df = pd.read_csv('./DATASET/VHM.csv')"
   ]
  },
  {
   "cell_type": "code",
   "execution_count": 7,
   "metadata": {},
   "outputs": [
    {
     "data": {
      "text/plain": [
       "17471.919906201147"
      ]
     },
     "execution_count": 7,
     "metadata": {},
     "output_type": "execute_result"
    }
   ],
   "source": [
    "def preprocess_stock_data(csv_file_path):\n",
    "    # Load data from CSV file\n",
    "    data = pd.read_csv(csv_file_path)\n",
    "    data['Date'] = pd.to_datetime(data['Date'], format='%d/%m/%Y')\n",
    "    data.set_index('Date', inplace=True)\n",
    "    \n",
    "    # Fill missing dates\n",
    "    full_date_range = pd.date_range(start=data.index.min(), end=data.index.max(), freq='D')\n",
    "    data = data.reindex(full_date_range)\n",
    "    data = data.ffill()\n",
    "    data.reset_index(inplace=True)\n",
    "    data.rename(columns={'index': 'Date'}, inplace=True)\n",
    "    \n",
    "    # Convert volume from string to number\n",
    "    def convert_volume_to_number(volume_str):\n",
    "        if isinstance(volume_str, float) and np.isnan(volume_str):\n",
    "            return np.nan\n",
    "        if volume_str[-1] == 'K':\n",
    "            return int(float(volume_str[:-1]) * 1000)\n",
    "        elif volume_str[-1] == 'M':\n",
    "            return int(float(volume_str[:-1]) * 1000000)\n",
    "        elif volume_str[-1] == 'B':\n",
    "            return int(float(volume_str[:-1]) * 1000000000)\n",
    "        else:\n",
    "            return int(volume_str)\n",
    "    \n",
    "    # Apply convert_volume_to_number function to Volume column\n",
    "    data[\"Volume\"] = data[\"Volume\"].apply(convert_volume_to_number)\n",
    "    \n",
    "    # Convert change % from string to number\n",
    "    def convert_change_to_number(change_str):\n",
    "        if isinstance(change_str, float) and np.isnan(change_str):\n",
    "            return np.nan\n",
    "        new_change = float(change_str.strip('%')) / 100\n",
    "        return new_change\n",
    "\n",
    "    # Apply convert_change_to_number function to Change % column\n",
    "    data[\"Change %\"] = data[\"Change %\"].apply(convert_change_to_number)\n",
    "    \n",
    "    # Function to convert string to number\n",
    "    def convert_str_to_number(str_value):\n",
    "        if isinstance(str_value, float) and np.isnan(str_value):\n",
    "            return np.nan\n",
    "        return float(str_value.replace(',', ''))\n",
    "    \n",
    "    # Apply convert_str_to_number function to Close, Open, High, Low columns\n",
    "    data['Close'] = data['Close'].apply(convert_str_to_number)\n",
    "    data['Open'] = data['Open'].apply(convert_str_to_number)\n",
    "    data['High'] = data['High'].apply(convert_str_to_number)\n",
    "    data['Low'] = data['Low'].apply(convert_str_to_number)\n",
    "    \n",
    "    data = data.sort_values('Date', ascending=True)\n",
    "    return data\n",
    "\n",
    "dxg = preprocess_stock_data('./DATASET/DXG.csv')\n"
   ]
  },
  {
   "cell_type": "code",
   "execution_count": 10,
   "metadata": {},
   "outputs": [
    {
     "name": "stdout",
     "output_type": "stream",
     "text": [
      "17471.919906201147\n",
      "15624.0\n",
      "7659.188432697695\n",
      "6739.1\n",
      "46750.0\n",
      "12260.9\n",
      "15624.0\n",
      "20262.5\n",
      "1.4941014135187065\n",
      "2.376422687782688\n"
     ]
    }
   ],
   "source": [
    "print(dxg['Close'].mean()) \n",
    "print(dxg['Close'].median())\n",
    "print(dxg['Close'].std())\n",
    "print(dxg['Close'].min())\n",
    "print(dxg['Close'].max())\n",
    "print(dxg['Close'].quantile(0.25))\n",
    "print(dxg['Close'].quantile(0.5))\n",
    "print(dxg['Close'].quantile(0.75))\n",
    "print(dxg['Close'].skew())\n",
    "print(dxg['Close'].kurtosis())\n",
    "\n",
    "\n"
   ]
  }
 ],
 "metadata": {
  "kernelspec": {
   "display_name": "Python 3",
   "language": "python",
   "name": "python3"
  },
  "language_info": {
   "codemirror_mode": {
    "name": "ipython",
    "version": 3
   },
   "file_extension": ".py",
   "mimetype": "text/x-python",
   "name": "python",
   "nbconvert_exporter": "python",
   "pygments_lexer": "ipython3",
   "version": "3.12.0"
  }
 },
 "nbformat": 4,
 "nbformat_minor": 2
}
